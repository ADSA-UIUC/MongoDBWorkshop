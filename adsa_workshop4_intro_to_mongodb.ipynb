{
 "cells": [
  {
   "cell_type": "markdown",
   "metadata": {},
   "source": [
    "![ADSA Logo](http://i.imgur.com/BV0CdHZ.png?2 \\\\\\\"ADSA Logo\\\\\\\")"
   ]
  },
  {
   "cell_type": "markdown",
   "metadata": {},
   "source": [
    "# ADSA Workshop 4 - Introduction to NoSQL and MongoDB"
   ]
  },
  {
   "cell_type": "markdown",
   "metadata": {},
   "source": [
    "In this code workshop, we will cover the basics of MongoDB. We will first store a subset of Yelp's Academic Dataset (from 1.32 GB to approx. 11 MB). This subset contains all reviews that have the word `mango` in them, and all the businesses these reviews are of."
   ]
  },
  {
   "cell_type": "markdown",
   "metadata": {},
   "source": [
    "First we will import pymongo and set up a Mongo Client that will create a connection to interface with the databases we have."
   ]
  },
  {
   "cell_type": "code",
   "execution_count": 1,
   "metadata": {
    "collapsed": false
   },
   "outputs": [
    {
     "name": "stdout",
     "output_type": "stream",
     "text": [
      "Connected successfully!\n"
     ]
    },
    {
     "data": {
      "text/plain": [
       "MongoClient('localhost', 27017)"
      ]
     },
     "execution_count": 1,
     "metadata": {},
     "output_type": "execute_result"
    }
   ],
   "source": [
    "import pymongo\n",
    "\n",
    "# Connection to Mongo DB\n",
    "try:\n",
    "    conn = pymongo.MongoClient()\n",
    "    print 'Connected successfully!'\n",
    "except pymongo.errors.ConnectionFailure, e:\n",
    "    print 'Could not connect to MongoDB: {0}'.format(e)\n",
    "    \n",
    "conn"
   ]
  },
  {
   "cell_type": "markdown",
   "metadata": {},
   "source": [
    "## Inserting Data into a MongoDB Database"
   ]
  },
  {
   "cell_type": "markdown",
   "metadata": {},
   "source": [
    "Let's create a database called `yelp_db` through our connection."
   ]
  },
  {
   "cell_type": "code",
   "execution_count": 2,
   "metadata": {
    "collapsed": false
   },
   "outputs": [
    {
     "data": {
      "text/plain": [
       "Database(MongoClient('localhost', 27017), u'yelp_db')"
      ]
     },
     "execution_count": 2,
     "metadata": {},
     "output_type": "execute_result"
    }
   ],
   "source": [
    "#conn.drop_database('yelp_db')\n",
    "\n",
    "yelp_db = conn.yelp_db\n",
    "yelp_db"
   ]
  },
  {
   "cell_type": "markdown",
   "metadata": {},
   "source": [
    "Print out the databases we have so far. `yelp_db` was not added to our list of databases because we haven't added any data to it yet. So let's add some data."
   ]
  },
  {
   "cell_type": "code",
   "execution_count": 3,
   "metadata": {
    "collapsed": false
   },
   "outputs": [
    {
     "data": {
      "text/plain": [
       "[u'local']"
      ]
     },
     "execution_count": 3,
     "metadata": {},
     "output_type": "execute_result"
    }
   ],
   "source": [
    "conn.database_names()"
   ]
  },
  {
   "cell_type": "markdown",
   "metadata": {},
   "source": [
    "We'll create a collection in our `yelp_db` database of all the review data we have."
   ]
  },
  {
   "cell_type": "code",
   "execution_count": 5,
   "metadata": {
    "collapsed": false
   },
   "outputs": [
    {
     "data": {
      "text/plain": [
       "Collection(Database(MongoClient('localhost', 27017), u'yelp_db'), u'reviews')"
      ]
     },
     "execution_count": 5,
     "metadata": {},
     "output_type": "execute_result"
    }
   ],
   "source": [
    "reviews = yelp_db.reviews\n",
    "reviews"
   ]
  },
  {
   "cell_type": "code",
   "execution_count": 6,
   "metadata": {
    "collapsed": false
   },
   "outputs": [
    {
     "data": {
      "text/plain": [
       "[]"
      ]
     },
     "execution_count": 6,
     "metadata": {},
     "output_type": "execute_result"
    }
   ],
   "source": [
    "yelp_db.collection_names()"
   ]
  },
  {
   "cell_type": "markdown",
   "metadata": {},
   "source": [
    "Again, the collection will not show up until we actually add some data to it."
   ]
  },
  {
   "cell_type": "markdown",
   "metadata": {},
   "source": [
    "Let's add the `mango.json` data to our database. Each line of the JSON file is one JSON Object. We will first parse this data from it's string format to a Python dictionary and then insert this dictionary into the `reviews` collection. MongoDB will handle the insertion process for us."
   ]
  },
  {
   "cell_type": "code",
   "execution_count": 7,
   "metadata": {
    "collapsed": true
   },
   "outputs": [],
   "source": [
    "import json\n",
    "\n",
    "with open('mango.json', 'r') as reviews_file:\n",
    "    for line in reviews_file:\n",
    "        doc = json.loads(line)\n",
    "        reviews.insert(doc)"
   ]
  },
  {
   "cell_type": "markdown",
   "metadata": {},
   "source": [
    "Now we will see that the list of databases has our new `yelp_db`."
   ]
  },
  {
   "cell_type": "code",
   "execution_count": 8,
   "metadata": {
    "collapsed": false
   },
   "outputs": [
    {
     "data": {
      "text/plain": [
       "[u'local', u'yelp_db']"
      ]
     },
     "execution_count": 8,
     "metadata": {},
     "output_type": "execute_result"
    }
   ],
   "source": [
    "conn.database_names()"
   ]
  },
  {
   "cell_type": "markdown",
   "metadata": {},
   "source": [
    "And the list of collections in our database has also been updated. Do not worry about the `systems.indexes` collection, it is created and managed by MongoDB."
   ]
  },
  {
   "cell_type": "code",
   "execution_count": 9,
   "metadata": {
    "collapsed": false
   },
   "outputs": [
    {
     "data": {
      "text/plain": [
       "[u'reviews', u'system.indexes']"
      ]
     },
     "execution_count": 9,
     "metadata": {},
     "output_type": "execute_result"
    }
   ],
   "source": [
    "yelp_db.collection_names()"
   ]
  },
  {
   "cell_type": "markdown",
   "metadata": {},
   "source": [
    "## Analyzing the Objects in our Database"
   ]
  },
  {
   "cell_type": "markdown",
   "metadata": {},
   "source": [
    "Let's see what a sample review object looks like."
   ]
  },
  {
   "cell_type": "code",
   "execution_count": 10,
   "metadata": {
    "collapsed": false
   },
   "outputs": [
    {
     "data": {
      "text/plain": [
       "{u'_id': ObjectId('56082ad26651fe2b8a7a2597'),\n",
       " u'business_id': u'McikHxxEqZ2X0joaRNKlaw',\n",
       " u'date': u'2013-06-17',\n",
       " u'review_id': u'5XzkZUgPDNZ3WfZss6C-NQ',\n",
       " u'stars': 3,\n",
       " u'text': u\"Nothing special. Just like Applebee's, Chili's or Fridays. Stick to the bar food (burgers, sandwiches, pizza, wings and salads) and you will be okay. \\n\\nThis was our second attempt at trying Rock Bottom on Fathers Day. The first time almost ten years ago. We went in the early afternoon and they had already ran out of steaks. How do you do that on Fathers Day?! This time we went around 12 noon and beat the rush.\\n\\nMy wife got and loved the Berry Bash Sangria. She just said it had too much ice in it. Our daughter got the root beer float which she love and I started with a Mango Ice Tea, but later switched for a raspberry ice tea as the mango ice tea wasn't sweet enough.\\n\\nWe started off the the Kobe beef sliders as our app. It took at least 15 minutes to get them. You get three sliders and they were very good.\\n\\nMy wife got a small greenhouse salad with Jalapeno ranch dressing to start off with which she enjoyed and the lobster & shrimp enchiladas as her main entree. She complained about how salty it was and the fact that there was no lobster in it at all.\\n\\nOur daughter got the kids burger and fries. No surprise there.\\n\\nI ordered the New York Strip with mashed potatoes and it came with green bean as well. My strip was cooked perfectly and has a decent taste. Longhorn has a much, much better quality of steak though. The green beans were pretty good and my mashed potatoes very bland and pretty average. \\n\\nThe kitchen sounded like an live episode of Hell's Kitchen. The waiters were repeatedly asking for orders at least 5 to 6 times. The kitchen was backed up the whole time we were there.\\n\\nOn a different note, our waitress Susan was very good. Come here for drinks and the bar food. Skip everything else.\",\n",
       " u'type': u'review',\n",
       " u'user_id': u'fwsJGulnozT2U6FefsLiFw',\n",
       " u'votes': {u'cool': 1, u'funny': 1, u'useful': 0}}"
      ]
     },
     "execution_count": 10,
     "metadata": {},
     "output_type": "execute_result"
    }
   ],
   "source": [
    "reviews.find_one()"
   ]
  },
  {
   "cell_type": "markdown",
   "metadata": {},
   "source": [
    "Let's look at the type of this review object so that we can figure out how to interface with it."
   ]
  },
  {
   "cell_type": "code",
   "execution_count": 11,
   "metadata": {
    "collapsed": false
   },
   "outputs": [
    {
     "data": {
      "text/plain": [
       "dict"
      ]
     },
     "execution_count": 11,
     "metadata": {},
     "output_type": "execute_result"
    }
   ],
   "source": [
    "type(reviews.find_one())"
   ]
  },
  {
   "cell_type": "markdown",
   "metadata": {},
   "source": [
    "It is just a regular Python dictionary. MongoDB handled the conversion process for us. Let's look at how many total reviews we have in our database."
   ]
  },
  {
   "cell_type": "code",
   "execution_count": 12,
   "metadata": {
    "collapsed": false
   },
   "outputs": [
    {
     "data": {
      "text/plain": [
       "8366"
      ]
     },
     "execution_count": 12,
     "metadata": {},
     "output_type": "execute_result"
    }
   ],
   "source": [
    "reviews.count()"
   ]
  },
  {
   "cell_type": "markdown",
   "metadata": {},
   "source": [
    "Similarly, we create a collection in our db that will store all the businesses the mango reviews are of."
   ]
  },
  {
   "cell_type": "code",
   "execution_count": 13,
   "metadata": {
    "collapsed": true
   },
   "outputs": [],
   "source": [
    "businesses = yelp_db.businesses\n",
    "\n",
    "with open('mango_businesses.json', 'r') as biz_file:\n",
    "    for line in biz_file:\n",
    "        doc = json.loads(line)\n",
    "        businesses.insert(doc)"
   ]
  },
  {
   "cell_type": "code",
   "execution_count": 14,
   "metadata": {
    "collapsed": false
   },
   "outputs": [
    {
     "data": {
      "text/plain": [
       "2984"
      ]
     },
     "execution_count": 14,
     "metadata": {},
     "output_type": "execute_result"
    }
   ],
   "source": [
    "businesses.count()"
   ]
  },
  {
   "cell_type": "code",
   "execution_count": 15,
   "metadata": {
    "collapsed": false
   },
   "outputs": [
    {
     "data": {
      "text/plain": [
       "{u'_id': ObjectId('56082adb6651fe2b8a7a4645'),\n",
       " u'attributes': {u'Accepts Credit Cards': True,\n",
       "  u'Alcohol': u'full_bar',\n",
       "  u'Ambience': {u'casual': True,\n",
       "   u'classy': False,\n",
       "   u'divey': False,\n",
       "   u'hipster': False,\n",
       "   u'intimate': False,\n",
       "   u'romantic': False,\n",
       "   u'touristy': False,\n",
       "   u'trendy': False,\n",
       "   u'upscale': False},\n",
       "  u'Attire': u'casual',\n",
       "  u'Caters': False,\n",
       "  u'Delivery': False,\n",
       "  u'Good For': {u'breakfast': False,\n",
       "   u'brunch': False,\n",
       "   u'dessert': False,\n",
       "   u'dinner': True,\n",
       "   u'latenight': False,\n",
       "   u'lunch': False},\n",
       "  u'Good For Groups': True,\n",
       "  u'Good For Kids': False,\n",
       "  u'Good for Kids': True,\n",
       "  u'Has TV': True,\n",
       "  u'Noise Level': u'average',\n",
       "  u'Outdoor Seating': True,\n",
       "  u'Parking': {u'garage': False,\n",
       "   u'lot': True,\n",
       "   u'street': False,\n",
       "   u'valet': False,\n",
       "   u'validated': False},\n",
       "  u'Price Range': 2,\n",
       "  u'Take-out': True,\n",
       "  u'Takes Reservations': True,\n",
       "  u'Waiter Service': True,\n",
       "  u'Wheelchair Accessible': True,\n",
       "  u'Wi-Fi': u'no'},\n",
       " u'business_id': u'McikHxxEqZ2X0joaRNKlaw',\n",
       " u'categories': [u'Food',\n",
       "  u'American (Traditional)',\n",
       "  u'Breweries',\n",
       "  u'Restaurants'],\n",
       " u'city': u'Homestead',\n",
       " u'full_address': u'171 E Bridge St\\nHomestead\\nHomestead, PA 15120',\n",
       " u'hours': {u'Friday': {u'close': u'02:00', u'open': u'11:00'},\n",
       "  u'Monday': {u'close': u'02:00', u'open': u'11:00'},\n",
       "  u'Saturday': {u'close': u'02:00', u'open': u'11:00'},\n",
       "  u'Sunday': {u'close': u'00:00', u'open': u'11:00'},\n",
       "  u'Thursday': {u'close': u'02:00', u'open': u'11:00'},\n",
       "  u'Tuesday': {u'close': u'02:00', u'open': u'11:00'},\n",
       "  u'Wednesday': {u'close': u'02:00', u'open': u'11:00'}},\n",
       " u'latitude': 40.4094884,\n",
       " u'longitude': -79.9151108,\n",
       " u'name': u'Rock Bottom',\n",
       " u'neighborhoods': [u'Homestead'],\n",
       " u'open': True,\n",
       " u'review_count': 94,\n",
       " u'stars': 3.5,\n",
       " u'state': u'PA',\n",
       " u'type': u'business'}"
      ]
     },
     "execution_count": 15,
     "metadata": {},
     "output_type": "execute_result"
    }
   ],
   "source": [
    "businesses.find_one()"
   ]
  },
  {
   "cell_type": "markdown",
   "metadata": {},
   "source": [
    "Let's find the number of businesses in Illinois that serve mango. We will query the database, and use a simple query operator `$eq` which matches values that are equal to the specified value."
   ]
  },
  {
   "cell_type": "code",
   "execution_count": 16,
   "metadata": {
    "collapsed": false
   },
   "outputs": [
    {
     "data": {
      "text/plain": [
       "41"
      ]
     },
     "execution_count": 16,
     "metadata": {},
     "output_type": "execute_result"
    }
   ],
   "source": [
    "illinois_businesses = businesses.find( {'state':{'$eq': 'IL'}} )\n",
    "illinois_businesses.count()"
   ]
  },
  {
   "cell_type": "code",
   "execution_count": 17,
   "metadata": {
    "collapsed": false
   },
   "outputs": [
    {
     "data": {
      "text/plain": [
       "pymongo.cursor.Cursor"
      ]
     },
     "execution_count": 17,
     "metadata": {},
     "output_type": "execute_result"
    }
   ],
   "source": [
    "type(illinois_businesses)"
   ]
  },
  {
   "cell_type": "markdown",
   "metadata": {},
   "source": [
    "Whenever we run a query, the object that is returned is a `cursor`. Cursors are used to iterate over the data that we queried. We can use it like a list of objects and loop over it."
   ]
  },
  {
   "cell_type": "markdown",
   "metadata": {},
   "source": [
    "We can analyze the first object in the cursor by calling `next()` on it."
   ]
  },
  {
   "cell_type": "code",
   "execution_count": 18,
   "metadata": {
    "collapsed": false
   },
   "outputs": [
    {
     "data": {
      "text/plain": [
       "{u'_id': ObjectId('56082adb6651fe2b8a7a466c'),\n",
       " u'attributes': {u'Accepts Credit Cards': True,\n",
       "  u'Alcohol': u'none',\n",
       "  u'Ambience': {u'casual': True,\n",
       "   u'classy': False,\n",
       "   u'divey': False,\n",
       "   u'hipster': False,\n",
       "   u'intimate': False,\n",
       "   u'romantic': False,\n",
       "   u'touristy': False,\n",
       "   u'trendy': False,\n",
       "   u'upscale': False},\n",
       "  u'Attire': u'casual',\n",
       "  u'BYOB/Corkage': u'yes_free',\n",
       "  u'Caters': False,\n",
       "  u'Corkage': False,\n",
       "  u'Delivery': False,\n",
       "  u'Good For': {u'breakfast': False,\n",
       "   u'brunch': False,\n",
       "   u'dessert': False,\n",
       "   u'dinner': True,\n",
       "   u'latenight': False,\n",
       "   u'lunch': True},\n",
       "  u'Good For Groups': True,\n",
       "  u'Good for Kids': True,\n",
       "  u'Has TV': False,\n",
       "  u'Noise Level': u'average',\n",
       "  u'Outdoor Seating': False,\n",
       "  u'Parking': {u'garage': False,\n",
       "   u'lot': False,\n",
       "   u'street': True,\n",
       "   u'valet': False,\n",
       "   u'validated': False},\n",
       "  u'Price Range': 2,\n",
       "  u'Take-out': True,\n",
       "  u'Takes Reservations': False,\n",
       "  u'Waiter Service': True,\n",
       "  u'Wheelchair Accessible': False,\n",
       "  u'Wi-Fi': u'no'},\n",
       " u'business_id': u'1tK0k-vRgGFC3oSZNUJ58Q',\n",
       " u'categories': [u'Indian', u'Restaurants'],\n",
       " u'city': u'Champaign',\n",
       " u'full_address': u'401 E Green St\\nChampaign, IL 61820',\n",
       " u'hours': {u'Friday': {u'close': u'22:00', u'open': u'17:00'},\n",
       "  u'Monday': {u'close': u'15:00', u'open': u'11:00'},\n",
       "  u'Saturday': {u'close': u'22:00', u'open': u'17:00'},\n",
       "  u'Sunday': {u'close': u'21:00', u'open': u'17:00'},\n",
       "  u'Thursday': {u'close': u'21:30', u'open': u'17:00'},\n",
       "  u'Tuesday': {u'close': u'21:30', u'open': u'17:00'},\n",
       "  u'Wednesday': {u'close': u'21:30', u'open': u'17:00'}},\n",
       " u'latitude': 40.110474,\n",
       " u'longitude': -88.233544,\n",
       " u'name': u'Bombay Indian Grill',\n",
       " u'neighborhoods': [],\n",
       " u'open': True,\n",
       " u'review_count': 57,\n",
       " u'stars': 3.5,\n",
       " u'state': u'IL',\n",
       " u'type': u'business'}"
      ]
     },
     "execution_count": 18,
     "metadata": {},
     "output_type": "execute_result"
    }
   ],
   "source": [
    "illinois_businesses.next()"
   ]
  },
  {
   "cell_type": "markdown",
   "metadata": {},
   "source": [
    "We can specifically find one document in our collection by specifying it's properties."
   ]
  },
  {
   "cell_type": "code",
   "execution_count": 19,
   "metadata": {
    "collapsed": false
   },
   "outputs": [
    {
     "data": {
      "text/plain": [
       "{u'_id': ObjectId('56082adb6651fe2b8a7a466c'),\n",
       " u'attributes': {u'Accepts Credit Cards': True,\n",
       "  u'Alcohol': u'none',\n",
       "  u'Ambience': {u'casual': True,\n",
       "   u'classy': False,\n",
       "   u'divey': False,\n",
       "   u'hipster': False,\n",
       "   u'intimate': False,\n",
       "   u'romantic': False,\n",
       "   u'touristy': False,\n",
       "   u'trendy': False,\n",
       "   u'upscale': False},\n",
       "  u'Attire': u'casual',\n",
       "  u'BYOB/Corkage': u'yes_free',\n",
       "  u'Caters': False,\n",
       "  u'Corkage': False,\n",
       "  u'Delivery': False,\n",
       "  u'Good For': {u'breakfast': False,\n",
       "   u'brunch': False,\n",
       "   u'dessert': False,\n",
       "   u'dinner': True,\n",
       "   u'latenight': False,\n",
       "   u'lunch': True},\n",
       "  u'Good For Groups': True,\n",
       "  u'Good for Kids': True,\n",
       "  u'Has TV': False,\n",
       "  u'Noise Level': u'average',\n",
       "  u'Outdoor Seating': False,\n",
       "  u'Parking': {u'garage': False,\n",
       "   u'lot': False,\n",
       "   u'street': True,\n",
       "   u'valet': False,\n",
       "   u'validated': False},\n",
       "  u'Price Range': 2,\n",
       "  u'Take-out': True,\n",
       "  u'Takes Reservations': False,\n",
       "  u'Waiter Service': True,\n",
       "  u'Wheelchair Accessible': False,\n",
       "  u'Wi-Fi': u'no'},\n",
       " u'business_id': u'1tK0k-vRgGFC3oSZNUJ58Q',\n",
       " u'categories': [u'Indian', u'Restaurants'],\n",
       " u'city': u'Champaign',\n",
       " u'full_address': u'401 E Green St\\nChampaign, IL 61820',\n",
       " u'hours': {u'Friday': {u'close': u'22:00', u'open': u'17:00'},\n",
       "  u'Monday': {u'close': u'15:00', u'open': u'11:00'},\n",
       "  u'Saturday': {u'close': u'22:00', u'open': u'17:00'},\n",
       "  u'Sunday': {u'close': u'21:00', u'open': u'17:00'},\n",
       "  u'Thursday': {u'close': u'21:30', u'open': u'17:00'},\n",
       "  u'Tuesday': {u'close': u'21:30', u'open': u'17:00'},\n",
       "  u'Wednesday': {u'close': u'21:30', u'open': u'17:00'}},\n",
       " u'latitude': 40.110474,\n",
       " u'longitude': -88.233544,\n",
       " u'name': u'Bombay Indian Grill',\n",
       " u'neighborhoods': [],\n",
       " u'open': True,\n",
       " u'review_count': 57,\n",
       " u'stars': 3.5,\n",
       " u'state': u'IL',\n",
       " u'type': u'business'}"
      ]
     },
     "execution_count": 19,
     "metadata": {},
     "output_type": "execute_result"
    }
   ],
   "source": [
    "bombay_grill = businesses.find_one( {'name':{'$eq': 'Bombay Indian Grill'}, 'state': {'$eq': 'IL'}} )\n",
    "bombay_grill"
   ]
  },
  {
   "cell_type": "markdown",
   "metadata": {},
   "source": [
    "To get the number of mango reviews that people have posted about Bombay Indian Grill, we will query the reviews collection by using the restaurant's `business_id`."
   ]
  },
  {
   "cell_type": "code",
   "execution_count": 20,
   "metadata": {
    "collapsed": false
   },
   "outputs": [
    {
     "data": {
      "text/plain": [
       "2"
      ]
     },
     "execution_count": 20,
     "metadata": {},
     "output_type": "execute_result"
    }
   ],
   "source": [
    "bombay_grill_reviews = reviews.find( {'business_id': {'$eq': bombay_grill['business_id']}} )\n",
    "bombay_grill_reviews.count()"
   ]
  },
  {
   "cell_type": "markdown",
   "metadata": {},
   "source": [
    "We can print the text of each of it's reviews by iterating through the cursor."
   ]
  },
  {
   "cell_type": "code",
   "execution_count": 21,
   "metadata": {
    "collapsed": false
   },
   "outputs": [
    {
     "name": "stdout",
     "output_type": "stream",
     "text": [
      "This is one of my favorite places in CU.  Their Naan is the best Naan of all Naans I've had - and I've had a lot of Naan.  Chicken Tikka and Lamb Curry are my favorites.  With a mango lassi expect to pay around 15 bucks after tax and tip.\n",
      "Okay Indian food. Bit overpriced. The naan is big and fresh. The service is sub par. I ordered an aloo paratha once and the owner brought me a regular paratha. Did you think I didn't know? The vindaloo tastes okay. The lassi is waaayyy too thick. They do have mango kulfi, which Ambar does not. But 10 out of 10 times I would go to Ambar.\n"
     ]
    }
   ],
   "source": [
    "for mango_review in bombay_grill_reviews:\n",
    "    print mango_review['text']"
   ]
  },
  {
   "cell_type": "markdown",
   "metadata": {},
   "source": [
    "These two reviews seem to have different opinions about the restaurant. We should find the star rating they specified in their review. But before we access our cursor again, we need to rewind it because we have already reached the end of the objects that it iterates over. Rewinding moves the cursor back to the start of the object list."
   ]
  },
  {
   "cell_type": "code",
   "execution_count": 22,
   "metadata": {
    "collapsed": false
   },
   "outputs": [
    {
     "name": "stdout",
     "output_type": "stream",
     "text": [
      "5\n",
      "2\n"
     ]
    }
   ],
   "source": [
    "bombay_grill_reviews.rewind()\n",
    "for mango_review in bombay_grill_reviews:\n",
    "    print mango_review['stars']"
   ]
  },
  {
   "cell_type": "markdown",
   "metadata": {},
   "source": [
    "## Using Logical Query Operators"
   ]
  },
  {
   "cell_type": "markdown",
   "metadata": {},
   "source": [
    "We can use logical query operators to apply multiple conditions to our query. For example, let's find out all the mango-serving businesses that have over 50 reviews and also have a delivery service."
   ]
  },
  {
   "cell_type": "code",
   "execution_count": 23,
   "metadata": {
    "collapsed": false
   },
   "outputs": [
    {
     "data": {
      "text/plain": [
       "266"
      ]
     },
     "execution_count": 23,
     "metadata": {},
     "output_type": "execute_result"
    }
   ],
   "source": [
    "awesome_restaurants = businesses.find( {'$and': [ {'review_count': {'$gt': 10}}, {'attributes.Delivery': True} ]} )\n",
    "awesome_restaurants.count()"
   ]
  },
  {
   "cell_type": "code",
   "execution_count": null,
   "metadata": {
    "collapsed": true
   },
   "outputs": [],
   "source": []
  }
 ],
 "metadata": {
  "kernelspec": {
   "display_name": "Python 2",
   "language": "python",
   "name": "python2"
  },
  "language_info": {
   "codemirror_mode": {
    "name": "ipython",
    "version": 2
   },
   "file_extension": ".py",
   "mimetype": "text/x-python",
   "name": "python",
   "nbconvert_exporter": "python",
   "pygments_lexer": "ipython2",
   "version": "2.7.6"
  }
 },
 "nbformat": 4,
 "nbformat_minor": 0
}
